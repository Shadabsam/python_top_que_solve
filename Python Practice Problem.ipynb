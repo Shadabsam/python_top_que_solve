{
 "cells": [
  {
   "cell_type": "code",
   "execution_count": 16,
   "id": "871198e3",
   "metadata": {},
   "outputs": [
    {
     "name": "stdout",
     "output_type": "stream",
     "text": [
      "enter your no.1: 1\n",
      "enter your no.2: 1\n",
      "enter your no.3: 1\n",
      "equal\n"
     ]
    }
   ],
   "source": [
    "# 1. User will input (3ages).Find the oldest one\n",
    "a=int(input(\"enter your no.1: \"))\n",
    "b=int(input(\"enter your no.2: \"))\n",
    "c=int(input(\"enter your no.3: \"))\n",
    "\n",
    "if a> b and a>c:\n",
    "    print(\"a is largest\")\n",
    "elif b> a and b > c:\n",
    "    print(\"b is largest\")\n",
    "elif a==b and b==a and c==a and b==c:\n",
    "    print(\"equal\")\n",
    "else:\n",
    "    print(\"c is largest\")\n",
    "\n",
    "    "
   ]
  },
  {
   "cell_type": "code",
   "execution_count": 23,
   "id": "b8c92eb1",
   "metadata": {},
   "outputs": [],
   "source": [
    "# 2. Write a program that will convert celsius value to fahrenheit\n",
    "def cel_to_far(x):\n",
    "    f = (9/5 * x) + 32\n",
    "    return f\n"
   ]
  },
  {
   "cell_type": "code",
   "execution_count": 24,
   "id": "318ce2b0",
   "metadata": {},
   "outputs": [
    {
     "data": {
      "text/plain": [
       "113.0"
      ]
     },
     "execution_count": 24,
     "metadata": {},
     "output_type": "execute_result"
    }
   ],
   "source": [
    "cel_to_far(45)"
   ]
  },
  {
   "cell_type": "code",
   "execution_count": 33,
   "id": "a0baa468",
   "metadata": {},
   "outputs": [
    {
     "name": "stdout",
     "output_type": "stream",
     "text": [
      "enter no.1 1\n",
      "enter no.1 2\n",
      "a = 2 b = 1\n"
     ]
    }
   ],
   "source": [
    "# 3. User will input (2numbers).Write a program to swap the numbers\n",
    "a=int(input(\"enter no.1 \"))\n",
    "b=int(input(\"enter no.1 \"))\n",
    "\n",
    "c=a\n",
    "a=b\n",
    "b=c\n",
    "print(\"a\",\"=\",a,\"b\",\"=\",b)\n"
   ]
  },
  {
   "cell_type": "code",
   "execution_count": 21,
   "id": "3dbca295",
   "metadata": {},
   "outputs": [
    {
     "name": "stdout",
     "output_type": "stream",
     "text": [
      "enter your 3 digit no.: 234\n",
      "9\n"
     ]
    }
   ],
   "source": [
    "# 4. Write a program that will give you the sum of 3 digits\n",
    "num=int(input(\"enter your 3 digit no.: \"))\n",
    "a=num%10\n",
    "num=num//10\n",
    "b=num%10\n",
    "c=num//10\n",
    "\n",
    "print(a+b+c)\n"
   ]
  },
  {
   "cell_type": "code",
   "execution_count": 5,
   "id": "a2e46b23",
   "metadata": {},
   "outputs": [
    {
     "name": "stdout",
     "output_type": "stream",
     "text": [
      "enter your 4 digit no.: 8888\n",
      "false\n",
      "(8, 8, 8, 8)\n"
     ]
    }
   ],
   "source": [
    "#5. Write a program that will reverse a four digit number.Also it checks whether the reverse is true\n",
    "\n",
    "no=int(input(\"enter your 4 digit no.: \"))\n",
    "a=no%10\n",
    "no=no//10\n",
    "b=no%10\n",
    "no=no//10\n",
    "c=no%10\n",
    "no=no//10\n",
    "d=no%10\n",
    "rev=a,b,c,d\n",
    "if no==rev:\n",
    "    print(\"true\")\n",
    "else:\n",
    "    print(\"false\")\n",
    "print(rev)\n",
    "\n",
    "\n"
   ]
  },
  {
   "cell_type": "code",
   "execution_count": 38,
   "id": "abcb8cbb",
   "metadata": {},
   "outputs": [
    {
     "name": "stdout",
     "output_type": "stream",
     "text": [
      "enter your no.: 99\n",
      "odd 99\n"
     ]
    }
   ],
   "source": [
    "# 6. Write a program that will tell whether the number entered by the user is odd or even.\n",
    "num=int(input(\"enter your no.: \"))\n",
    "if num%2==0:\n",
    "    print(\"even\",num)\n",
    "else:\n",
    "    print(\"odd\",num)"
   ]
  },
  {
   "cell_type": "code",
   "execution_count": 59,
   "id": "18846e0a",
   "metadata": {},
   "outputs": [
    {
     "name": "stdout",
     "output_type": "stream",
     "text": [
      "enter your year :1784\n",
      "leap year\n"
     ]
    }
   ],
   "source": [
    "# 7. Write a program that will tell whether the given year is a leap year or not.\n",
    "\n",
    "year=int(input(\"enter your year :\"))\n",
    "if(year%4==0 and year%100!= 0 or year%400==0):\n",
    "    print(\"leap year\")\n",
    "else:\n",
    "    print(\"not a leap year\")\n",
    "    "
   ]
  },
  {
   "cell_type": "code",
   "execution_count": 66,
   "id": "8db27d4b",
   "metadata": {},
   "outputs": [
    {
     "name": "stdout",
     "output_type": "stream",
     "text": [
      "enter x1 cordinates7\n",
      "enter y1 cordinates8\n",
      "enter x2 cordinates5\n",
      "enter y2 cordinates8\n",
      "2.0\n"
     ]
    }
   ],
   "source": [
    "# 8. Write a program to find the euclidean distance between two coordinates.\n",
    "x1=int(input(\"enter x1 cordinates\"))\n",
    "y1=int(input(\"enter y1 cordinates\"))\n",
    "x2=int(input(\"enter x2 cordinates\"))\n",
    "y2=int(input(\"enter y2 cordinates\"))\n",
    "\n",
    "d2 = (x2 - x1)**2 + (y2-y1)**2\n",
    "print(d2**0.5)\n",
    "\n",
    "\n"
   ]
  },
  {
   "cell_type": "code",
   "execution_count": 81,
   "id": "d4037a0c",
   "metadata": {},
   "outputs": [
    {
     "name": "stdout",
     "output_type": "stream",
     "text": [
      "enter angle 1 :60\n",
      "enter angle 2 :60\n",
      "enter angle 3 :60\n",
      "right angle triangle\n"
     ]
    }
   ],
   "source": [
    "# 9.Write a program that take a user input of three angles and will find out whether it can form a triangle or not\n",
    "\n",
    "aa=int(input(\"enter angle 1 :\"))\n",
    "bb=int(input(\"enter angle 2 :\"))\n",
    "cc=int(input(\"enter angle 3 :\"))\n",
    "d=(aa+bb+cc)\n",
    "\n",
    "if d==180:\n",
    "    \n",
    "    print(\"right angle triangle\")\n",
    "else:\n",
    "    \n",
    "    print(\"false\")\n",
    "\n",
    "\n",
    "    "
   ]
  },
  {
   "cell_type": "code",
   "execution_count": 87,
   "id": "955e2148",
   "metadata": {},
   "outputs": [
    {
     "name": "stdout",
     "output_type": "stream",
     "text": [
      "enter your cost price : 123\n",
      "enter your selling price : 40\n",
      "loss 83\n"
     ]
    }
   ],
   "source": [
    "# 10.Write a program that will take user input of cost price and selling price and determines whether its a loss or a profit\n",
    "cost_price=int(input(\"enter your cost price : \"))\n",
    "selling_price=int(input(\"enter your selling price : \"))\n",
    "\n",
    "if cost_price > selling_price:\n",
    "    print(\"loss\",cost_price-selling_price)\n",
    "else:\n",
    "    print(\"profit\",selling_price-cost_price)"
   ]
  },
  {
   "cell_type": "code",
   "execution_count": 92,
   "id": "6b81af6a",
   "metadata": {},
   "outputs": [
    {
     "name": "stdout",
     "output_type": "stream",
     "text": [
      "enter principle amount: 1000\n",
      "enter rate of interest: 5\n",
      "enter time period: 10\n",
      "500\n"
     ]
    }
   ],
   "source": [
    "# 1.Write a program to find the simple interest when the value of principle,rate of interest and time period is given.\n",
    "p=int(input(\"enter principle amount: \"))\n",
    "r=int(input(\"enter rate of interest: \"))\n",
    "t=int(input(\"enter time period: \"))\n",
    "\n",
    "si=(p * r * t)//100\n",
    "print(si)"
   ]
  },
  {
   "cell_type": "code",
   "execution_count": 96,
   "id": "628ad4fb",
   "metadata": {},
   "outputs": [
    {
     "name": "stdout",
     "output_type": "stream",
     "text": [
      "enter radius: 5\n",
      "enter height: 7\n",
      "549.5\n",
      "21.98\n"
     ]
    }
   ],
   "source": [
    "#12.Write a program to find the volume of the cylinder. Also find the cost ,when the cost of 1 litre milk is 40Rs.\n",
    "pie=3.14\n",
    "r=int(input(\"enter radius: \"))\n",
    "h=int(input(\"enter height: \"))\n",
    "\n",
    "v=pie*(r**2)*h\n",
    "print(v)\n",
    "cost=v/1000*40\n",
    "print(cost)"
   ]
  },
  {
   "cell_type": "code",
   "execution_count": 98,
   "id": "67adc73a",
   "metadata": {},
   "outputs": [
    {
     "name": "stdout",
     "output_type": "stream",
     "text": [
      "enter your no.: 31\n",
      "not divisible\n"
     ]
    }
   ],
   "source": [
    "#13. Write a program that will tell whether the given number is divisible by 3 & 6\n",
    "num=int(input(\"enter your no.: \"))\n",
    "if num%3==0 and num%6==0:\n",
    "    print(\"divisible\")\n",
    "else:\n",
    "    print(\"not divisible\")"
   ]
  },
  {
   "cell_type": "code",
   "execution_count": 102,
   "id": "38c26bcd",
   "metadata": {},
   "outputs": [
    {
     "name": "stdout",
     "output_type": "stream",
     "text": [
      "enter temperature : 45\n",
      "enter humidity : 95\n",
      "Hot and Humid\n"
     ]
    }
   ],
   "source": [
    "\n",
    "#   16. Write a program that will determine weather when the value of\n",
    "#   temperature and humidity is provided by the user.\n",
    "#   TEMPERATURE(C) HUMIDITY(%) WEATHER\n",
    "#    >= 30 >=90 Hot and Humid\n",
    "#    >= 30 < 90 Hot\n",
    "#    <30 >= 90 Cool and Humid\n",
    "#    <30 <90 Cool\n",
    "\n",
    "temp=int(input(\"enter temperature : \"))\n",
    "hum=int(input(\"enter humidity : \"))\n",
    "if temp>=30 and hum >= 90:\n",
    "    print(\"Hot and Humid\")\n",
    "elif temp>= 30 and hum<90:\n",
    "    print(\"Hot\")\n",
    "elif temp<30 and hum>=90:\n",
    "    print(\"Cool and Humid\")\n",
    "elif temp<30 and hum<90:\n",
    "    print(\"Cool\")\n",
    "\n"
   ]
  },
  {
   "cell_type": "code",
   "execution_count": 117,
   "id": "0b7ed06a",
   "metadata": {},
   "outputs": [
    {
     "name": "stdout",
     "output_type": "stream",
     "text": [
      "enter your 3 digit no. : 456\n",
      "77\n"
     ]
    }
   ],
   "source": [
    "#17. Write a program that will take three digits from the user and add the square of each digit.\n",
    "num=int(input(\"enter your 3 digit no. : \"))\n",
    "a=num%10\n",
    "num=num//10\n",
    "b=num%10\n",
    "c=num//10\n",
    "print((a**2)+(b**2)+(c**2))\n"
   ]
  },
  {
   "cell_type": "code",
   "execution_count": 36,
   "id": "e8f16ebe",
   "metadata": {},
   "outputs": [
    {
     "name": "stdout",
     "output_type": "stream",
     "text": [
      "enter no.1 : 421\n",
      "73\n",
      "not a Arsmstrong number\n"
     ]
    }
   ],
   "source": [
    "#18. Write a program that will check whether the number is armstrong number or not.\n",
    "u=int(input(\"enter no.1 : \"))\n",
    "num=u\n",
    "ab=num%10\n",
    "num=num//10\n",
    "bc=num%10\n",
    "cd=num//10\n",
    "dd=(ab**3)+(bc**3)+(cd**3)\n",
    "print(dd)\n",
    "if dd==u:\n",
    "    print(\"Arsmstrong number\")\n",
    "else:\n",
    "    print(\"not a Arsmstrong number\")"
   ]
  },
  {
   "cell_type": "code",
   "execution_count": 45,
   "id": "0093b055",
   "metadata": {},
   "outputs": [
    {
     "name": "stdout",
     "output_type": "stream",
     "text": [
      "enter 4 digit no.: 1634\n",
      "1634\n",
      "narc\n"
     ]
    }
   ],
   "source": [
    "#19.Write a program that will take user input of (4 digits no.) and check whether the number is narcissist number or not.\n",
    "user=int(input(\"enter 4 digit no.: \"))   # 4 digit narcissist number=1634, 8208, 9474\n",
    "no=user\n",
    "a=no%10\n",
    "no=no//10\n",
    "b=no%10\n",
    "no=no//10\n",
    "c=no%10\n",
    "d=no//10\n",
    "x=(a**4)+(b**4)+(c**4)+(d**4)\n",
    "print(x)\n",
    "\n",
    "if (a**4)+(b**4)+(c**4)+(d**4)==user:\n",
    "    print(\"narc\")\n",
    "else:\n",
    "    print(\"not narc\")\n"
   ]
  },
  {
   "cell_type": "code",
   "execution_count": 66,
   "id": "b8cc326f",
   "metadata": {},
   "outputs": [
    {
     "name": "stdout",
     "output_type": "stream",
     "text": [
      "your annual salary : 10000000\n",
      "1000000.0\n",
      "500000.0\n",
      "300000.0\n",
      "200000.0\n",
      "2460000.0 inhand salary after 30% tax\n"
     ]
    }
   ],
   "source": [
    "#20. Write a program that will give you the in hand salary after\n",
    "#deduction of HRA(10%),DA(5%),PF(3%), and tax(if salary is between\n",
    "#5-10 lakh–10%),(11-20lakh–20%),(20< _ – 30%)(0-1lakh print k).\n",
    "\n",
    "salary=int(input(\"your annual salary : \"))\n",
    "hra=(10/100)*salary\n",
    "print(hra)\n",
    "da=(5/100)*salary\n",
    "print(da)\n",
    "pf=(3/100)*salary\n",
    "print(pf)\n",
    "print(hra-da-pf)\n",
    "d=salary-(hra+da+pf)\n",
    "if (d)<=500000:\n",
    "    print(\"inhand salary after 0 tax \",d)\n",
    "elif (d)>500000 and d<1000000:\n",
    "    print((20/100)*d,\"inhand salary after 20% tax\")\n",
    "else:\n",
    "    print((30/100)*d,\"inhand salary after 30% tax\")\n",
    "    \n",
    "\n",
    "\n",
    "    \n"
   ]
  },
  {
   "cell_type": "code",
   "execution_count": 12,
   "id": "c2b7233b",
   "metadata": {},
   "outputs": [
    {
     "name": "stdout",
     "output_type": "stream",
     "text": [
      "\n",
      "        1.Press 1 to convert CM to Ft.\n",
      "        2.Press 2 to convert KL to miles.\n",
      "        3.Press 3 to convert USD to INR.\n",
      "        4.Press to Exit\n",
      "2\n",
      "Enter KL :67\n",
      "miles = 41.607\n"
     ]
    }
   ],
   "source": [
    "# 21. Write a menu driven program - 1.cm to ft 2.kl to miles 3.usd to inr 4.exit \n",
    "\n",
    "menu=int(input(\"\"\"\n",
    "        1.Press 1 to convert CM to Ft.\n",
    "        2.Press 2 to convert KL to miles.\n",
    "        3.Press 3 to convert USD to INR.\n",
    "        4.Press to Exit\n",
    "\"\"\"))\n",
    "\n",
    "if menu==1:\n",
    "    cm=int(input(\"Enter your CM : \"))\n",
    "    feet=cm*0.0328\n",
    "    print(\"feet\",\"=\",feet)\n",
    "elif menu==2:\n",
    "    kl=int(input(\"Enter KL :\"))\n",
    "    miles=kl*0.621\n",
    "    print(\"miles\",\"=\",miles)\n",
    "elif menu==3:\n",
    "    usd=int(input(\"Enter USD : \"))\n",
    "    inr=usd*83.02\n",
    "    print(\"INR\",\"=\",inr)\n",
    "else:\n",
    "    print(\"Exit\")\n",
    "    "
   ]
  },
  {
   "cell_type": "code",
   "execution_count": 27,
   "id": "e1b86716",
   "metadata": {},
   "outputs": [
    {
     "name": "stdout",
     "output_type": "stream",
     "text": [
      "enter number of heads: 5\n",
      "enter number of legs: 10\n",
      "5 0\n"
     ]
    }
   ],
   "source": [
    "#22.Write a program that will tell the number of dogs and chicken are there \n",
    "# when the user will provide the value of total heads and legs\n",
    "\n",
    "heads=int(input(\"enter number of heads: \"))\n",
    "legs=int(input(\"enter number of legs: \"))\n",
    "\n",
    "if legs % 2 !=0 or heads ==0 or heads > legs:\n",
    "    print('No solution')\n",
    "else:\n",
    "    r = int((legs + (-2*heads))/2)\n",
    "    c = int(heads - r)\n",
    "    print('{} {}'.format(c,r))"
   ]
  },
  {
   "cell_type": "code",
   "execution_count": 31,
   "id": "78846e9a",
   "metadata": {},
   "outputs": [
    {
     "name": "stdout",
     "output_type": "stream",
     "text": [
      "enter no1: 1\n",
      "enter no2: 2\n",
      "2 1\n"
     ]
    }
   ],
   "source": [
    "# 23.Write a program that will swap numbers\n",
    "n1=int(input(\"enter no1: \"))\n",
    "n2=int(input(\"enter no2: \"))\n",
    "\n",
    "new=n1\n",
    "n1=n2\n",
    "n2=new\n",
    "print(n1,n2)\n"
   ]
  },
  {
   "cell_type": "code",
   "execution_count": 25,
   "id": "e3c2e1ed",
   "metadata": {},
   "outputs": [
    {
     "name": "stdout",
     "output_type": "stream",
     "text": [
      "enter your number: 9\n",
      "45\n"
     ]
    }
   ],
   "source": [
    "# 24.Write a program to find the sum of first n numbers, where n will be provided by the user. \n",
    "# Eg=> if the user provides n=10 the output should be 55.\n",
    "n=int(input(\"enter your number: \"))\n",
    "a=n*(n+1)//2\n",
    "print(a)\n"
   ]
  },
  {
   "cell_type": "code",
   "execution_count": 24,
   "id": "00b7dc63",
   "metadata": {},
   "outputs": [
    {
     "name": "stdout",
     "output_type": "stream",
     "text": [
      "enter your number 1: 6\n",
      "enter your number 2: 6\n",
      "36\n"
     ]
    }
   ],
   "source": [
    "# 25.Write a program that can multiply 2 numbers provided by the user without using the * operator\n",
    "a=int(input(\"enter your number 1: \"))\n",
    "b=int(input(\"enter your number 2: \"))\n",
    "c=0\n",
    "for i in range(0,a):\n",
    "    c=c+b\n",
    "print(c)\n",
    "    \n"
   ]
  },
  {
   "cell_type": "code",
   "execution_count": 33,
   "id": "7d6390e2",
   "metadata": {},
   "outputs": [
    {
     "name": "stdout",
     "output_type": "stream",
     "text": [
      "enter your number 1: 5\n",
      "120\n"
     ]
    }
   ],
   "source": [
    "#26.Write a program that can find the factorial of a given number provided by the user.\n",
    "num=int(input(\"enter your number 1: \"))\n",
    "i=1\n",
    "if num>0:\n",
    "    while num>=1:\n",
    "        i=i*num\n",
    "        num=num-1\n",
    "    print(i)\n",
    "else:\n",
    "    print(\"not\")\n",
    "        "
   ]
  },
  {
   "cell_type": "code",
   "execution_count": 37,
   "id": "176ed3b7",
   "metadata": {},
   "outputs": [
    {
     "name": "stdout",
     "output_type": "stream",
     "text": [
      "1,3,5,7,9,11,13,15,17,19,21,23,25,"
     ]
    }
   ],
   "source": [
    "#27. Write a program to print the first 25 odd numbers.\n",
    "for i in range(1,101):\n",
    "    if i%2!=0:\n",
    "        print(i,end=\",\")\n",
    "        if i==25:\n",
    "            break\n",
    "        \n",
    "    \n",
    "\n"
   ]
  },
  {
   "cell_type": "code",
   "execution_count": 7,
   "id": "7cc6f107",
   "metadata": {},
   "outputs": [
    {
     "name": "stdout",
     "output_type": "stream",
     "text": [
      "enter your no.: 47\n",
      "this is a prime number\n"
     ]
    }
   ],
   "source": [
    "# 28.Write a program to print whether a given number is prime number or not.\n",
    "p=int(input(\"enter your no.: \"))\n",
    "if p<2:\n",
    "    print(\"not a prime number\")\n",
    "else:\n",
    "    for i in range(2,p):\n",
    "        if p%i==0:\n",
    "            print(\"not a prime number\")\n",
    "            break\n",
    "    else:\n",
    "        print(\"this is a prime number\")\n"
   ]
  },
  {
   "cell_type": "code",
   "execution_count": 35,
   "id": "e0bdeded",
   "metadata": {},
   "outputs": [
    {
     "name": "stdout",
     "output_type": "stream",
     "text": [
      "153\n",
      "370\n",
      "371\n",
      "407\n",
      "1000\n"
     ]
    }
   ],
   "source": [
    "#29.Print all the armstrong numbers in the range of 100 to 1000.\n",
    "\n",
    "for i in range(100,1001):\n",
    "    num=i\n",
    "    a=i%10\n",
    "    i=i//10\n",
    "    b=i%10\n",
    "    c=i//10\n",
    "    d=(a**3)+(b**3)+(c**3)\n",
    "    #print(d,end=\" \")\n",
    "    if d == num:\n",
    "        print(num)\n",
    "    num=num+1\n",
    "       "
   ]
  },
  {
   "cell_type": "code",
   "execution_count": 40,
   "id": "7defb774",
   "metadata": {},
   "outputs": [
    {
     "name": "stdout",
     "output_type": "stream",
     "text": [
      "153\n",
      "370\n",
      "371\n",
      "407\n",
      "1000\n"
     ]
    }
   ],
   "source": [
    "for i in range(100,1001):\n",
    "    x=i\n",
    "    a=i%10\n",
    "    i=i//10\n",
    "    b=i%10\n",
    "    c=i//10\n",
    "    y=(a**3)+(b**3)+(c**3)\n",
    "    if y==x:\n",
    "        print(x)\n",
    "    x=+1\n"
   ]
  },
  {
   "cell_type": "code",
   "execution_count": 58,
   "id": "1b1e1f38",
   "metadata": {},
   "outputs": [
    {
     "ename": "TypeError",
     "evalue": "'int' object is not callable",
     "output_type": "error",
     "traceback": [
      "\u001b[1;31m---------------------------------------------------------------------------\u001b[0m",
      "\u001b[1;31mTypeError\u001b[0m                                 Traceback (most recent call last)",
      "Cell \u001b[1;32mIn[58], line 12\u001b[0m\n\u001b[0;32m      9\u001b[0m \u001b[38;5;66;03m#inc=(10/100)*town_pop\u001b[39;00m\n\u001b[0;32m     10\u001b[0m \u001b[38;5;28;01mfor\u001b[39;00m i \u001b[38;5;129;01min\u001b[39;00m \u001b[38;5;28mrange\u001b[39m(\u001b[38;5;241m1\u001b[39m,\u001b[38;5;241m11\u001b[39m):\n\u001b[1;32m---> 12\u001b[0m     inc \u001b[38;5;241m=\u001b[39m town_pop(\u001b[38;5;241m1\u001b[39m \u001b[38;5;241m+\u001b[39m \u001b[38;5;241m10\u001b[39m)\u001b[38;5;241m*\u001b[39m(\u001b[38;5;241m10\u001b[39m\u001b[38;5;241m-\u001b[39m\u001b[38;5;241m1000\u001b[39m)\n\u001b[0;32m     13\u001b[0m     \u001b[38;5;28mprint\u001b[39m(inc)\n",
      "\u001b[1;31mTypeError\u001b[0m: 'int' object is not callable"
     ]
    }
   ],
   "source": [
    "#30.The current population of a town is 10000. The population of the town is increasing at the rate of 10% per year.\n",
    "#You have to write a program to find out the population at the end of each of the last 10 years.\n",
    "#For eg --current population is 10000 so the output should be like this:\n",
    "#                                                   10th year - 10000\n",
    "#                                                   9th year - 9000\n",
    "#                                                   8th year - 8100 and so on\n",
    "\n",
    "town_pop=1000\n",
    "#inc=(10/100)*town_pop\n",
    "for i in range(1,11):\n",
    "    \n",
    "    inc = town_pop(1 + 10)*(10-1000)\n",
    "    print(inc)\n"
   ]
  },
  {
   "cell_type": "code",
   "execution_count": 67,
   "id": "0a712ac7",
   "metadata": {},
   "outputs": [
    {
     "name": "stdout",
     "output_type": "stream",
     "text": [
      "1101.0\n",
      "1102.0\n",
      "1103.0\n",
      "1104.0\n",
      "1105.0\n",
      "1106.0\n",
      "1107.0\n",
      "1108.0\n",
      "1109.0\n",
      "1110.0\n"
     ]
    }
   ],
   "source": [
    "t=1000\n",
    "i=(10/100)*t\n",
    "k=(i+t)\n",
    "for j in range(1,11):\n",
    "    print(j+k)"
   ]
  },
  {
   "cell_type": "code",
   "execution_count": 68,
   "id": "2e9b9094",
   "metadata": {},
   "outputs": [
    {
     "name": "stdout",
     "output_type": "stream",
     "text": [
      "1 2\n",
      "1 3\n",
      "1 4\n",
      "2 1\n",
      "2 3\n",
      "2 4\n",
      "3 1\n",
      "3 2\n",
      "3 4\n",
      "4 1\n",
      "4 2\n",
      "4 3\n"
     ]
    }
   ],
   "source": [
    "#31. Write a program to print all the unique combinations of 1,2,3 and 4\n",
    "for i in range(1,5):\n",
    "    for j in range(1,5):\n",
    "        if i!=j:\n",
    "            print(i,j)"
   ]
  },
  {
   "cell_type": "code",
   "execution_count": 10,
   "id": "a1bb4120",
   "metadata": {},
   "outputs": [
    {
     "name": "stdout",
     "output_type": "stream",
     "text": [
      "enter number 1.: 16\n",
      "enter number 2.: 24\n",
      "hcf 16\n"
     ]
    }
   ],
   "source": [
    "#32.User will provide 2 numbers you have to find the HCF of those 2 numbers\n",
    "n1=int(input(\"enter number 1.: \"))\n",
    "n2=int(input(\"enter number 2.: \"))\n",
    "\n",
    "while n1%n2!=0:\n",
    "    rem=n1&n2\n",
    "    n1=rem\n",
    "    n2=n1\n",
    "print(\"hcf\",n2)\n"
   ]
  },
  {
   "cell_type": "code",
   "execution_count": 16,
   "id": "bf163eb5",
   "metadata": {},
   "outputs": [
    {
     "name": "stdout",
     "output_type": "stream",
     "text": [
      "enter number 1.: 6\n",
      "enter number 2.: 9\n",
      "lcm 18.0\n"
     ]
    }
   ],
   "source": [
    "#33.User will provide 2 numbers you have to find the by LCM of those 2 numbers.\n",
    "a=int(input(\"enter number 1.: \"))\n",
    "n1=a\n",
    "b=int(input(\"enter number 2.: \"))\n",
    "n2=b\n",
    "while n1%n2!=0:\n",
    "    rem=n1%n2\n",
    "    n1=n2\n",
    "    n2=rem\n",
    "hcf=n2\n",
    "\n",
    "lcm=(a*b)/hcf\n",
    "print(\"lcm\",lcm)\n",
    "\n",
    " "
   ]
  },
  {
   "cell_type": "code",
   "execution_count": 51,
   "id": "2b90d9c3",
   "metadata": {},
   "outputs": [
    {
     "name": "stdout",
     "output_type": "stream",
     "text": [
      "2\n",
      "3\n",
      "5\n",
      "7\n",
      "11\n",
      "13\n",
      "17\n",
      "19\n",
      "23\n",
      "29\n",
      "31\n",
      "37\n",
      "41\n",
      "43\n",
      "47\n",
      "53\n",
      "59\n",
      "61\n",
      "67\n",
      "71\n",
      "73\n",
      "79\n",
      "83\n",
      "89\n",
      "97\n",
      "101\n"
     ]
    }
   ],
   "source": [
    "#34.Print first 25 prime numbers.\n",
    "x=0\n",
    "y=2\n",
    "while x<=25:\n",
    "    for i in range(2,y):\n",
    "        if y%i==0:\n",
    "            break\n",
    "    else:\n",
    "        print(y)\n",
    "        x=x+1\n",
    "    y=y+1\n",
    "\n"
   ]
  },
  {
   "cell_type": "code",
   "execution_count": null,
   "id": "d551f9fc",
   "metadata": {},
   "outputs": [],
   "source": [
    "#35.Print the first 20 numbers of a Fibonacci series.\n",
    "\n"
   ]
  },
  {
   "cell_type": "code",
   "execution_count": 2,
   "id": "ee980fbb",
   "metadata": {},
   "outputs": [
    {
     "name": "stdout",
     "output_type": "stream",
     "text": [
      "enter your number5\n",
      "guess higher\n",
      "enter your number6\n",
      "guess higher\n",
      "enter your number8\n",
      "you win You took 3 attempts\n"
     ]
    }
   ],
   "source": [
    "#Guessing game\n",
    "import random\n",
    "\n",
    "comp=random.randint(1,10)\n",
    "user=int(input(\"enter your number\"))\n",
    "count=1\n",
    "while user!=comp:\n",
    "    if user>comp:\n",
    "        print(\"guess lower\")\n",
    "    else:\n",
    "        print(\"guess higher\")\n",
    "    user=int(input(\"enter your number\"))\n",
    "    count=count+1\n",
    "print(\"you win\",\"You took\",count,\"attempts\")"
   ]
  },
  {
   "cell_type": "code",
   "execution_count": 81,
   "id": "4b04b51a",
   "metadata": {},
   "outputs": [],
   "source": [
    "#36.Write a program to find the compound interest\n",
    "def compound_interest(p,r,t):\n",
    "    amount=p*(1+(r/100))**t\n",
    "   # return amount - (p),amount\n",
    "    print(\"total amount\",round(amount),\"|\",\"compound interest\",round(amount-p))"
   ]
  },
  {
   "cell_type": "code",
   "execution_count": 82,
   "id": "59e5bb1c",
   "metadata": {},
   "outputs": [
    {
     "name": "stdout",
     "output_type": "stream",
     "text": [
      "total amount 3106 | compound interest 2106\n"
     ]
    }
   ],
   "source": [
    "compound_interest(1000,12,10)"
   ]
  },
  {
   "cell_type": "code",
   "execution_count": 5,
   "id": "a2ad01ae",
   "metadata": {},
   "outputs": [
    {
     "name": "stdout",
     "output_type": "stream",
     "text": [
      "enter the number : 5\n",
      "5\n",
      "55\n",
      "5 + 55 + 555\n"
     ]
    }
   ],
   "source": [
    "#37.Write a Python program that accepts an integer (n) and computes the value of n+nn+nnn\n",
    "\n",
    "n=input(\"enter the number : \")\n",
    "print(n)\n",
    "nn=n+n\n",
    "print(nn)\n",
    "nnn=n+n+n\n",
    "print(n,\"+\",nn,\"+\",nnn)\n"
   ]
  },
  {
   "cell_type": "code",
   "execution_count": 8,
   "id": "c0f4b6a4",
   "metadata": {},
   "outputs": [
    {
     "name": "stdout",
     "output_type": "stream",
     "text": [
      "Enter the number: 6789\n",
      "4\n"
     ]
    }
   ],
   "source": [
    "#38.Take a number from the user and find the number of digits in it.\n",
    "num=int(input(\"Enter the number: \"))\n",
    "count=0\n",
    "while (num>0):\n",
    "    num=num//10\n",
    "    count=count+1\n",
    "print(count)"
   ]
  },
  {
   "cell_type": "code",
   "execution_count": 19,
   "id": "ea167ad2",
   "metadata": {},
   "outputs": [
    {
     "name": "stdout",
     "output_type": "stream",
     "text": [
      "Enter the number: 12\n",
      "1\n",
      "2\n",
      "3\n",
      "4\n",
      "6\n",
      "12\n"
     ]
    }
   ],
   "source": [
    "#39.Print all factors of a given number provided by the user.\n",
    "n=int(input(\"Enter the number: \"))\n",
    "for i in range(1,n+1):\n",
    "    if n%i==0:\n",
    "        print(i)"
   ]
  },
  {
   "cell_type": "markdown",
   "id": "b4b3353d",
   "metadata": {},
   "source": [
    "# 40. Find the reverse of a number provided by the user(any number of digit)\n",
    "num=int(input(\"Enter the number: \"))\n",
    "num=num%10\n",
    "a=num//10\n",
    "b=a%10\n",
    "b=b//10\n",
    "c=b%10\n",
    "c=b//10\n",
    "d=(a+b+c) Solve this code\n",
    "print(d)    \n"
   ]
  },
  {
   "cell_type": "code",
   "execution_count": 33,
   "id": "a247dda8",
   "metadata": {},
   "outputs": [
    {
     "name": "stdout",
     "output_type": "stream",
     "text": [
      "*\n",
      "**\n",
      "***\n",
      "****\n",
      "*****\n"
     ]
    }
   ],
   "source": [
    "#41. Write a program to print the following pattern\n",
    "# *\n",
    "# **\n",
    "# ***\n",
    "# ****\n",
    "# *****\n",
    "a=\"*\"\n",
    "for i in range(1,6):\n",
    "    print(i*\"*\")"
   ]
  },
  {
   "cell_type": "code",
   "execution_count": 5,
   "id": "84bbbac1",
   "metadata": {},
   "outputs": [
    {
     "name": "stdout",
     "output_type": "stream",
     "text": [
      "*\n",
      "**\n",
      "***\n",
      "****\n",
      "*****\n"
     ]
    }
   ],
   "source": [
    "# 42.Write a program to print the following pattern\n",
    "# *\n",
    "# **\n",
    "# ***\n",
    "# **\n",
    "# *\n",
    "#a=\"*\"\n",
    "a=\"*\"\n",
    "for i in range(1,6):\n",
    "    print(i*\"*\")\n",
    "for k in range(5,-1):\n",
    "    print(k*\"*\")\n",
    "        \n",
    "    \n",
    "    "
   ]
  },
  {
   "cell_type": "code",
   "execution_count": null,
   "id": "82abd42f",
   "metadata": {},
   "outputs": [],
   "source": []
  },
  {
   "cell_type": "code",
   "execution_count": null,
   "id": "bbffdcf4",
   "metadata": {},
   "outputs": [],
   "source": []
  },
  {
   "cell_type": "code",
   "execution_count": null,
   "id": "ac70ad58",
   "metadata": {},
   "outputs": [],
   "source": []
  },
  {
   "cell_type": "code",
   "execution_count": 10,
   "id": "abc2e241",
   "metadata": {},
   "outputs": [
    {
     "name": "stdout",
     "output_type": "stream",
     "text": [
      "enter the number: 5\n",
      "2.708333333333333\n"
     ]
    }
   ],
   "source": [
    "# 46. Write a program to calculate the sum of the following series till the nth term\n",
    "# 1/1! + 2/2! + 3/3! + 4/4! +…….+ n/n! n will be provided by the user\n",
    "\n",
    "num=int(input(\"enter the number: \"))\n",
    "result=0\n",
    "fact=1\n",
    "for i in range(1,num+1):\n",
    "    fact=fact*i\n",
    "    result=result+(i/fact)\n",
    "print(result)"
   ]
  },
  {
   "cell_type": "code",
   "execution_count": 6,
   "id": "580f1d23",
   "metadata": {},
   "outputs": [],
   "source": [
    "# 47. Write a Python Program to Find the Sum of the Series till the nth term:\n",
    "# 1 + x^2/2 + x^3/3 + … x^n/n\n",
    "# n will be provided by the user\n",
    "\n",
    "\n"
   ]
  },
  {
   "cell_type": "code",
   "execution_count": 7,
   "id": "ef9e70af",
   "metadata": {},
   "outputs": [],
   "source": [
    "# 48.The natural logarithm can be approximated by the following series.\n",
    "# If x is input through the keyboard, write a program to calculate the\n",
    "# sum of the first seven terms of this series"
   ]
  },
  {
   "cell_type": "code",
   "execution_count": 6,
   "id": "61e8f40e",
   "metadata": {},
   "outputs": [
    {
     "name": "stdout",
     "output_type": "stream",
     "text": [
      "enter the number: 1\n",
      "enter the number: 2\n",
      "enter the number: 3\n",
      "enter the number: 4\n",
      "enter the number: 5\n",
      "enter the number: 0\n",
      "The sum of number is 15 The average number is 3.0\n"
     ]
    }
   ],
   "source": [
    "# 49. Write a program that keeps on accepting a number from the user until\n",
    "# the user enters Zero. Display the sum and average of all the numbers\n",
    "\n",
    "user=int(input(\"enter the number: \"))\n",
    "count=0\n",
    "s=0\n",
    "a=0\n",
    "while True:\n",
    "    if user==0:\n",
    "        print(\"The sum of number is\" ,s,\"The average number is\",a)\n",
    "        break\n",
    "        \n",
    "    else:\n",
    "        count=count+1\n",
    "        s=s+user\n",
    "        a=(s/count)\n",
    "        user=int(input(\"enter the number: \"))\n",
    "\n",
    "    "
   ]
  },
  {
   "cell_type": "code",
   "execution_count": 7,
   "id": "20e9f271",
   "metadata": {},
   "outputs": [
    {
     "ename": "SyntaxError",
     "evalue": "invalid syntax (3157041741.py, line 6)",
     "output_type": "error",
     "traceback": [
      "\u001b[1;36m  Cell \u001b[1;32mIn[7], line 6\u001b[1;36m\u001b[0m\n\u001b[1;33m    if num//den==\u001b[0m\n\u001b[1;37m                 ^\u001b[0m\n\u001b[1;31mSyntaxError\u001b[0m\u001b[1;31m:\u001b[0m invalid syntax\n"
     ]
    }
   ],
   "source": [
    "# 50.Write a program that accepts 2 numbers from the user a numerator\n",
    "# and a denominator and then simplifies it\n",
    "\n",
    "num=int(input(\"Enter the numerator : \"))\n",
    "den=int(input(\"Enter the denominator : \"))\n",
    "if num//den=="
   ]
  },
  {
   "cell_type": "code",
   "execution_count": 10,
   "id": "e0ea4c41",
   "metadata": {},
   "outputs": [
    {
     "name": "stdout",
     "output_type": "stream",
     "text": [
      "Enter the String: sam\n",
      "length of string is 3\n"
     ]
    }
   ],
   "source": [
    "# 51. Find the length of a given string without using the len() function.\n",
    "string=input(\"Enter the String: \")\n",
    "c=0\n",
    "for i in string:\n",
    "    c=c+1\n",
    "print(\"length of string is\",c)\n",
    "    "
   ]
  },
  {
   "cell_type": "code",
   "execution_count": 2,
   "id": "28e3118f",
   "metadata": {},
   "outputs": [
    {
     "name": "stdout",
     "output_type": "stream",
     "text": [
      "enter the email: nitish24singh@gmail.com\n",
      "nitish24singh\n"
     ]
    }
   ],
   "source": [
    "# 52.Extract username from a given email.\n",
    "# Eg if the email is nitish24singh@gmail.com then the username\n",
    "# should be nitish24singh\n",
    "\n",
    "email=input(\"enter the email: \")\n",
    "b,email=email.split(\"@\")\n",
    "print(b)\n",
    "\n"
   ]
  },
  {
   "cell_type": "code",
   "execution_count": 4,
   "id": "b6e60861",
   "metadata": {},
   "outputs": [
    {
     "name": "stdout",
     "output_type": "stream",
     "text": [
      "Enter the strings: hello how are you?\n",
      "enter the string which you want to count:h\n",
      "2\n"
     ]
    }
   ],
   "source": [
    "# 53.Count the frequency of a particular character in a provided string. Eg\n",
    "# 'hello how are you' is the string, the frequency of h in this string is 2.\n",
    "user=input(\"Enter the strings: \")\n",
    "c=input(\"enter the string which you want to count:\")\n",
    "print(user.count(c))"
   ]
  },
  {
   "cell_type": "code",
   "execution_count": 5,
   "id": "c99323c6",
   "metadata": {},
   "outputs": [
    {
     "name": "stdout",
     "output_type": "stream",
     "text": [
      "Enter the strings: hello how are you\n",
      "enter the word to find the index position:y\n",
      "14\n"
     ]
    }
   ],
   "source": [
    "# 54.Find the index position of a particular character in another string.\n",
    "user=input(\"Enter the strings: \")\n",
    "c=input(\"enter the word to find the index position:\")\n",
    "print(user.index(c))"
   ]
  },
  {
   "cell_type": "code",
   "execution_count": 19,
   "id": "e914ead7",
   "metadata": {},
   "outputs": [
    {
     "name": "stdout",
     "output_type": "stream",
     "text": [
      "Enter the strings: a quick brown fox jumps over the lazy dog\n",
      "11\n"
     ]
    }
   ],
   "source": [
    "# 55.Count the number of vowels in a string provided by the user.\n",
    "\n",
    "user=input(\"Enter the strings: \")\n",
    "c=0\n",
    "vowels=(\"a,e,i,o,u\")\n",
    "for i in user:\n",
    "    if i in vowels:\n",
    "        c=c+1\n",
    "print(c)"
   ]
  },
  {
   "cell_type": "code",
   "execution_count": 26,
   "id": "3bb96e7a",
   "metadata": {},
   "outputs": [
    {
     "name": "stdout",
     "output_type": "stream",
     "text": [
      "Enter the strings: shadabsam@gmail.com\n",
      "enter the word to remove:@gmail.com\n"
     ]
    },
    {
     "data": {
      "text/plain": [
       "'shadabsam'"
      ]
     },
     "execution_count": 26,
     "metadata": {},
     "output_type": "execute_result"
    }
   ],
   "source": [
    "# 56.Write a program which can remove a particular character from a string.\n",
    "user=input(\"Enter the strings: \")\n",
    "r=input(\"enter the word to remove:\")\n",
    "d=user.split(r)\n",
    "\"\".join(d)\n"
   ]
  },
  {
   "cell_type": "code",
   "execution_count": 28,
   "id": "2d1a09cb",
   "metadata": {},
   "outputs": [
    {
     "name": "stdout",
     "output_type": "stream",
     "text": [
      "Enter the strings: mam\n",
      "palindrome\n"
     ]
    }
   ],
   "source": [
    "# 57.Write a program that can check whether a given string is palindrome or not.\n",
    "user=input(\"Enter the strings: \")\n",
    "if user==user[::-1]:\n",
    "    print(\"palindrome\")\n",
    "else:\n",
    "    print(\"not palindrome\")"
   ]
  },
  {
   "cell_type": "code",
   "execution_count": 29,
   "id": "40ace1a5",
   "metadata": {},
   "outputs": [
    {
     "name": "stdout",
     "output_type": "stream",
     "text": [
      "Enter the strings: abcadc adcvee fbedfv\n",
      "['a', 'b', 'c', 'd', ' ', 'v', 'e', 'f']\n"
     ]
    }
   ],
   "source": [
    "# 58.Write a python program to remove all the duplicates from a list\n",
    "user=input(\"Enter the strings: \")\n",
    "l=[]\n",
    "for i in user:\n",
    "    if i not in l:\n",
    "        l.append(i)\n",
    "print(l)\n"
   ]
  },
  {
   "cell_type": "code",
   "execution_count": 41,
   "id": "5d4a4f5b",
   "metadata": {},
   "outputs": [
    {
     "name": "stdout",
     "output_type": "stream",
     "text": [
      "Enter the strings: my name is shadab\n",
      "My Name Is Shadab \n"
     ]
    }
   ],
   "source": [
    "# 59.Write a python program to convert a string to title case without using the title()\n",
    "user=input(\"Enter the strings: \")\n",
    "a=user.split()\n",
    "t=''\n",
    "for i in a:\n",
    "    t=t+i[0].upper() + i[1:].lower() + ' '\n",
    "print(t)\n",
    " \n",
    "    "
   ]
  },
  {
   "cell_type": "code",
   "execution_count": 42,
   "id": "51fa6f11",
   "metadata": {},
   "outputs": [
    {
     "name": "stdout",
     "output_type": "stream",
     "text": [
      "9\n"
     ]
    }
   ],
   "source": [
    "# 60.Write a python program to find the max item from a list without using the max function\n",
    "l=[1,2,3,4,5,6,7,8,9]\n",
    "max=l[0]\n",
    "for i in l:\n",
    "    if i>max:\n",
    "        max=i\n",
    "print(max)"
   ]
  },
  {
   "cell_type": "code",
   "execution_count": 60,
   "id": "77657d3e",
   "metadata": {},
   "outputs": [
    {
     "name": "stdout",
     "output_type": "stream",
     "text": [
      "[9, 8, 7, 6, 5, 4, 3, 2, 1]\n"
     ]
    }
   ],
   "source": [
    "# 61. Write a python program to reverse a list\n",
    "l=[1,2,3,4,5,6,7,8,9]\n",
    "l1=[]\n",
    "for i in range(len(l)-1,-1,-1):\n",
    "    l1.append(l[i])\n",
    "print(l1)"
   ]
  },
  {
   "cell_type": "code",
   "execution_count": 62,
   "id": "03fbf23d",
   "metadata": {},
   "outputs": [
    {
     "name": "stdout",
     "output_type": "stream",
     "text": [
      "enter the number: 12\n",
      "True\n"
     ]
    }
   ],
   "source": [
    "# 62.Write a python program to search a given number from a list\n",
    "l=[1,2,3,4,5,6,7,8,9,10,11,12,13,14,14,15,17,16,18,19,20]\n",
    "k=int(input(\"enter the number: \"))\n",
    "if k in l:\n",
    "    print(\"True\")\n",
    "else:\n",
    "    print(\"false\")"
   ]
  },
  {
   "cell_type": "code",
   "execution_count": 79,
   "id": "d18a683e",
   "metadata": {},
   "outputs": [
    {
     "name": "stdout",
     "output_type": "stream",
     "text": [
      "[1, 4, 9, 16, 25, 36, 49, 64, 81, 100]\n"
     ]
    }
   ],
   "source": [
    "# 63.Write a program that can create a new list from a given list where each\n",
    "# item in the new list is square of the item of the old list\n",
    "m=[1,2,3,4,5,6,7,8,9,10 ]\n",
    "n=[]\n",
    "for i in m:\n",
    "    n.append(i**2)\n",
    "print(n)"
   ]
  },
  {
   "cell_type": "code",
   "execution_count": 86,
   "id": "4f8fa82f",
   "metadata": {},
   "outputs": [
    {
     "name": "stdout",
     "output_type": "stream",
     "text": [
      "enter the string: my name is shadab\n",
      "shadab is name my\n"
     ]
    }
   ],
   "source": [
    "# 64.Write a program that can reverse words of a given string.\n",
    "# Eg if the input is--- Hello how are you\n",
    "# Output should be -----you are how Hello\n",
    "user=input(\"enter the string: \")\n",
    "b=user.split()\n",
    "r=[]\n",
    "for i in range(len(b)-1,-1,-1):\n",
    "    r.append(b[i])\n",
    "j=' '.join(r)\n",
    "print(j)"
   ]
  },
  {
   "cell_type": "code",
   "execution_count": 96,
   "id": "020896ee",
   "metadata": {},
   "outputs": [
    {
     "name": "stdout",
     "output_type": "stream",
     "text": [
      "enter the string: shadab is name my\n",
      "4\n"
     ]
    }
   ],
   "source": [
    "# 65.Write a program that can count the number of words in a given string\n",
    "user=input(\"enter the string: \")\n",
    "c=0\n",
    "for i in user:\n",
    "    if i==' ':\n",
    "        c+=1\n",
    "w=c+1\n",
    "print(w)"
   ]
  },
  {
   "cell_type": "code",
   "execution_count": 105,
   "id": "92ffa3b6",
   "metadata": {},
   "outputs": [
    {
     "name": "stdout",
     "output_type": "stream",
     "text": [
      "asc\n"
     ]
    }
   ],
   "source": [
    "# 66.Write a program to check if a list is in ascending order or not\n",
    "\n",
    "m=[1,2,3,4,6]\n",
    "n=sorted(m)\n",
    "if m==n:\n",
    "    print(\"asc\")\n",
    "else:\n",
    "    print(\"not\")"
   ]
  },
  {
   "cell_type": "code",
   "execution_count": 102,
   "id": "7206f003",
   "metadata": {},
   "outputs": [
    {
     "data": {
      "text/plain": [
       "[1, 1, 2, 2, 2, 3, 3, 3, 3, 4, 4, 5, 5, 6, 7, 8]"
      ]
     },
     "execution_count": 102,
     "metadata": {},
     "output_type": "execute_result"
    }
   ],
   "source": [
    "n"
   ]
  },
  {
   "cell_type": "code",
   "execution_count": 1,
   "id": "ec0e22a7",
   "metadata": {},
   "outputs": [
    {
     "name": "stdout",
     "output_type": "stream",
     "text": [
      "[2, 4, 6, 8, 10] [1, 3, 5, 7, 9]\n"
     ]
    }
   ],
   "source": [
    "# 67.Create 2 lists from a given list where 1st list will contain all the odd\n",
    "# numbers from the original list and the 2nd one will contain all the even\n",
    "# numbers\n",
    "l=[1,2,3,4,5,6,7,8,9,10]\n",
    "l1=[]\n",
    "l2=[]\n",
    "for i in l:\n",
    "    if i%2==0:\n",
    "        l1.append(i)\n",
    "    else:\n",
    "        l2.append(i)\n",
    "print(l1,l2)"
   ]
  },
  {
   "cell_type": "code",
   "execution_count": 2,
   "id": "965801d1",
   "metadata": {},
   "outputs": [
    {
     "name": "stdout",
     "output_type": "stream",
     "text": [
      "[[2, 4, 6, 8, 10], [1, 3, 5, 7, 9]]\n"
     ]
    }
   ],
   "source": [
    "# 68.Write a program to merge 2 list without using the + operator\n",
    "l1=[2, 4, 6, 8, 10] \n",
    "l2=[1, 3, 5, 7, 9]\n",
    "new_list=[]\n",
    "for i in (l1,l2):\n",
    "    new_list.append(i)\n",
    "print(new_list)"
   ]
  },
  {
   "cell_type": "code",
   "execution_count": 12,
   "id": "3019c503",
   "metadata": {},
   "outputs": [
    {
     "name": "stdout",
     "output_type": "stream",
     "text": [
      "enter the number: 11\n",
      "enter the number: 12\n",
      "out of range\n"
     ]
    }
   ],
   "source": [
    "# 69.Write a program to replace an item with a different item if found in the list\n",
    "l=[1,2,3,4,5,6,7,8,9,10]\n",
    "user=int(input(\"enter the number: \"))\n",
    "user2=int(input(\"enter the number: \"))\n",
    "try:\n",
    "    l[user]=user2\n",
    "    print(l)\n",
    "except:\n",
    "    print(\"out of range\")\n",
    "\n",
    "\n"
   ]
  },
  {
   "cell_type": "code",
   "execution_count": 22,
   "id": "a53f9538",
   "metadata": {},
   "outputs": [
    {
     "name": "stdout",
     "output_type": "stream",
     "text": [
      "[1, 2, 3, 4, 5, 6, 7, 8, 9]\n"
     ]
    }
   ],
   "source": [
    "# 70.Write a program that can convert a 2D list to 1D listWrite a program that can print\n",
    "l=[[1,2,3,4,5],[6,7,8,9]]\n",
    "one_dimesional=[]\n",
    "for i in l:\n",
    "    one_dimesional.extend(i)\n",
    "print(one_dimesional)\n"
   ]
  },
  {
   "cell_type": "code",
   "execution_count": null,
   "id": "98fbdfcf",
   "metadata": {},
   "outputs": [],
   "source": []
  }
 ],
 "metadata": {
  "kernelspec": {
   "display_name": "Python 3 (ipykernel)",
   "language": "python",
   "name": "python3"
  },
  "language_info": {
   "codemirror_mode": {
    "name": "ipython",
    "version": 3
   },
   "file_extension": ".py",
   "mimetype": "text/x-python",
   "name": "python",
   "nbconvert_exporter": "python",
   "pygments_lexer": "ipython3",
   "version": "3.11.5"
  }
 },
 "nbformat": 4,
 "nbformat_minor": 5
}
